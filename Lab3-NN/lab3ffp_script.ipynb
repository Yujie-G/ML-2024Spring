{
 "cells": [
  {
   "cell_type": "code",
   "execution_count": null,
   "metadata": {},
   "outputs": [],
   "source": [
    "import numpy as np\n",
    "import pandas as pd\n",
    "import os\n",
    "import matplotlib.pyplot as plt\n",
    "from scipy.io import loadmat \n",
    "\n"
   ]
  },
  {
   "cell_type": "code",
   "execution_count": null,
   "metadata": {},
   "outputs": [],
   "source": [
    "#进行数据读取\n",
    "'''\n",
    "\n",
    "code here\n",
    "\n",
    "'''\n",
    "print(X.shape, y.shape, theta1.shape, theta2.shape)"
   ]
  },
  {
   "cell_type": "code",
   "execution_count": null,
   "metadata": {},
   "outputs": [],
   "source": [
    "def displayData(x):\n",
    "    indexs = np.random.choice(X.shape[0],100)\n",
    "    images=x[indexs]\n",
    "    fig,axs=plt.subplots(10,10,figsize=(20,20))\n",
    "    for row in range(10):\n",
    "        for col in range(10):\n",
    "            axs[row,col].matshow(images[row*10+col].reshape(20,20).T,cmap='gray_r')\n",
    "    plt.show()\n",
    "    \n",
    "displayData(X)\n"
   ]
  },
  {
   "cell_type": "code",
   "execution_count": null,
   "metadata": {},
   "outputs": [],
   "source": [
    "#定义sigmoid函数\n",
    "def sigmoid(z):\n",
    "    return (1.0/(1.0+np.exp(-z)))\n",
    "#定义前向传播函数\n",
    "def feedforward_propagation(X,Theta1,Theta2):\n",
    "    '''\n",
    "    \n",
    "    code here\n",
    "    \n",
    "    '''\n",
    "#定义预测函数\n",
    "def predict(a3):\n",
    "    #特别注意，label的范围是1~10，要记得给索引+1\n",
    "    return np.argmax(a3)+1"
   ]
  },
  {
   "cell_type": "code",
   "execution_count": null,
   "metadata": {},
   "outputs": [],
   "source": [
    "#完成实际标签与预测标签的准确度对比的统计\n",
    "def accuracy(X,y):\n",
    "    sum_num = 0\n",
    "    for i in range(y.size):\n",
    "        if(y[i] == predict(feedforward_propagation(X[i],theta1,theta2))):\n",
    "            sum_num += 1\n",
    "    return sum_num/y.size\n",
    "accuracy(X,y)"
   ]
  }
 ],
 "metadata": {
  "kernelspec": {
   "display_name": "base",
   "language": "python",
   "name": "python3"
  },
  "language_info": {
   "codemirror_mode": {
    "name": "ipython",
    "version": 3
   },
   "file_extension": ".py",
   "mimetype": "text/x-python",
   "name": "python",
   "nbconvert_exporter": "python",
   "pygments_lexer": "ipython3",
   "version": "3.9.13"
  }
 },
 "nbformat": 4,
 "nbformat_minor": 2
}
