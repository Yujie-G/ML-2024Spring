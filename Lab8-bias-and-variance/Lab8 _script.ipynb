{
 "cells": [
  {
   "cell_type": "code",
   "execution_count": null,
   "metadata": {},
   "outputs": [],
   "source": [
    "import numpy as np\n",
    "from scipy.io import loadmat\n",
    "import scipy.optimize as opt\n",
    "import pandas as pd\n",
    "import matplotlib.pyplot as plt"
   ]
  },
  {
   "cell_type": "code",
   "execution_count": null,
   "metadata": {},
   "outputs": [],
   "source": [
    "# 读入数据\n",
    "def loadData(path):\n",
    "    data = loadmat(path)\n",
    "    X, y, Xval, yval, Xtest, ytest = data['X'], data['y'], data['Xval'], data['yval'], data['Xtest'], data['ytest']\n",
    "    return X, y, Xval, yval, Xtest, ytest\n"
   ]
  },
  {
   "cell_type": "code",
   "execution_count": null,
   "metadata": {},
   "outputs": [],
   "source": [
    "path = r'ex8data1.mat'\n",
    "X, y, Xval, yval, Xtest, ytest = loadData(path)\n",
    "print(X.shape, y.shape, Xval.shape, yval.shape, Xtest.shape, ytest.shape)"
   ]
  },
  {
   "cell_type": "code",
   "execution_count": null,
   "metadata": {},
   "outputs": [],
   "source": [
    "# 可视化\n",
    "def plotData(X,y):\n",
    "    plt.figure(figsize=(12,8))\n",
    "    plt.scatter(X, y,c='r', marker='x')\n",
    "    plt.xlabel('Change in water level (x)')\n",
    "    plt.ylabel('Water flowing out of the dam (y)')\n",
    "    plt.grid(True)\n",
    "plotData(X,y)"
   ]
  },
  {
   "cell_type": "code",
   "execution_count": null,
   "metadata": {},
   "outputs": [],
   "source": [
    "# 插入x0 = 1\n",
    "X, Xval, Xtest = [np.insert(x, 0, np.ones(x.shape[0]), axis=1) for x in (X, Xval, Xtest)]\n",
    "print(X.shape, Xval.shape, Xtest.shape)\n",
    "# ((12, 2), (21, 2), (21, 2))\n",
    " \n",
    "# 代价函数\n",
    "def linearRegCostFunc(theta, X, y, l=1):\n",
    "    m = X.shape[0] # 12\n",
    "    '''\n",
    "    \n",
    "    code here\n",
    "    \n",
    "    '''\n",
    "    return cost\n",
    "\n",
    "theta=np.ones(X.shape[1])\n",
    "linearRegCostFunc(theta, X, y)"
   ]
  },
  {
   "cell_type": "code",
   "execution_count": null,
   "metadata": {},
   "outputs": [],
   "source": [
    "# 正则化梯度下降\n",
    "def linearRegCostFuncGradient(theta, X,y, l=1):\n",
    "    m = X.shape[0] # 12\n",
    "    '''\n",
    "    \n",
    "    code here\n",
    "    \n",
    "    '''\n",
    "    return grad # (2,1)\n",
    "\n",
    "linearRegCostFuncGradient(theta,X,y)"
   ]
  },
  {
   "cell_type": "code",
   "execution_count": null,
   "metadata": {},
   "outputs": [],
   "source": [
    "def trainLinearRegression(X,y,lmd):\n",
    "    theta=np.zeros(X.shape[1])\n",
    "    rslt = opt.minimize(fun=linearRegCostFunc,x0=theta,args=(X,y,lmd),\n",
    "                     method='TNC',jac=linearRegCostFuncGradient)\n",
    "    return rslt.x\n",
    "\n",
    "fit_theta=trainLinearRegression(X,y,0)\n",
    "fit_theta\n"
   ]
  },
  {
   "cell_type": "code",
   "execution_count": null,
   "metadata": {},
   "outputs": [],
   "source": [
    "def plotData1(theta, X, y):\n",
    "    fig,ax = plt.subplots(figsize=(12,8))\n",
    "    plt.scatter(X[:,1], y, c='r', label=\"Training data\")\n",
    "    plt.plot(X[:,1], X @ theta, c = 'b', label=\"Prediction\")\n",
    "    ax.set_xlabel(\"water_level\")\n",
    "    ax.set_ylabel(\"flow\")\n",
    "    ax.legend()\n",
    "    plt.show()\n",
    "\n",
    "plotData1(fit_theta, X, y)"
   ]
  },
  {
   "cell_type": "code",
   "execution_count": null,
   "metadata": {},
   "outputs": [],
   "source": [
    "\n",
    "def plotLearningCurve(X, y, Xval, yval, l):\n",
    "    \"\"\"画出学习曲线\"\"\"\n",
    "    size = range(1, len(X)+1)\n",
    "    error_train, error_val = [], []\n",
    "    for i in size:\n",
    "        i_theta = trainLinearRegression(X[:i, :], y[:i], l)\n",
    "        i_train_cost = linearRegCostFunc(i_theta, X[:i, :], y[:i], 0)\n",
    "        i_val_cost = linearRegCostFunc(i_theta, Xval, yval)\n",
    "        error_train.append(i_train_cost)\n",
    "        error_val.append(i_val_cost)\n",
    "\n",
    "    \n",
    "    fix, ax = plt.subplots(figsize=(12, 8))\n",
    "    ax.plot(size,error_train,label=\"Train\",color=\"blue\")\n",
    "    ax.plot(size,error_val,label=\"Cross Validation\",color=\"green\")\n",
    "    ax.legend()\n",
    "    ax.set_xlabel(\"Number of training examples\")\n",
    "    ax.set_ylabel(\"Error\")\n",
    "    ax.set_title(\"Learning curve for linear regression\")\n",
    "    ax.grid(False)\n",
    "    plt.show()\n",
    "\n",
    "plotLearningCurve(X, y, Xval, yval, 0)"
   ]
  },
  {
   "cell_type": "code",
   "execution_count": null,
   "metadata": {},
   "outputs": [],
   "source": [
    "def polyFeatures(X, power):\n",
    "    \"\"\"\n",
    "    多项式特征\n",
    "    每次在X最后一列添加次方项\n",
    "    从第三列开始插入，因为X本身含有一列x0 = 1\n",
    "    \"\"\"\n",
    "    Xpoly = X.copy()\n",
    "    '''\n",
    "    \n",
    "    code here\n",
    "    \n",
    "    '''    \n",
    "    return Xpoly"
   ]
  },
  {
   "cell_type": "code",
   "execution_count": null,
   "metadata": {},
   "outputs": [],
   "source": [
    "def get_means_std(X):\n",
    "    \"\"\"获得训练集的均值和误差\"\"\"\n",
    "    means = np.mean(X,axis = 0) # 按列\n",
    "    stds = np.std(X, axis=0, ddof=1)\n",
    "    \n",
    "    return means, stds\n",
    " \n",
    "\n",
    "def featureNormalize(X, means, stds):\n",
    "    \"\"\"标准化\"\"\"\n",
    "    '''\n",
    "    \n",
    "    code here\n",
    "    \n",
    "    '''\n",
    "    return X_norm"
   ]
  },
  {
   "cell_type": "code",
   "execution_count": null,
   "metadata": {},
   "outputs": [],
   "source": [
    "# 数据处理\n",
    "power = 8\n",
    "train_means, train_stds = get_means_std(polyFeatures(X, power))\n",
    "X_norm = featureNormalize(polyFeatures(X, power), train_means, train_stds)\n",
    "Xval_norm = featureNormalize(polyFeatures(Xval, power), train_means, train_stds)\n",
    "Xtest_norm = featureNormalize(polyFeatures(Xtest, power), train_means, train_stds)"
   ]
  },
  {
   "cell_type": "code",
   "execution_count": null,
   "metadata": {},
   "outputs": [],
   "source": [
    "def plot_fit(means, stds, l):\n",
    "    \"\"\"画出拟合曲线\"\"\"\n",
    "    theta = trainLinearRegression(X_norm,y, l)\n",
    "    x = np.linspace(-75,55,50)\n",
    "    xmat = x.reshape(-1, 1) # (50,)->(50,1)\n",
    "    xmat = np.insert(xmat,0,1,axis=1) # 添加x0 = 1 \n",
    "    Xmat = polyFeatures(xmat, power) # 增加特征\n",
    "    Xmat_norm = featureNormalize(Xmat, means, stds) # 特征规范化\n",
    "    plotData(X[:,1], y) # 画出原始数据\n",
    "    plt.plot(x, Xmat_norm @ theta, 'b--')# 画出拟合曲线\n",
    "    \n",
    "plot_fit(train_means, train_stds, 0)\n",
    "plotLearningCurve(X_norm, y, Xval_norm, yval, 0) # 画出学习曲线"
   ]
  },
  {
   "cell_type": "code",
   "execution_count": null,
   "metadata": {},
   "outputs": [],
   "source": [
    "plot_fit(train_means, train_stds, 1)\n",
    "plotLearningCurve(X_norm, y, Xval_norm, yval, 1) "
   ]
  },
  {
   "cell_type": "code",
   "execution_count": null,
   "metadata": {},
   "outputs": [],
   "source": [
    "plot_fit(train_means, train_stds, 100)\n",
    "plotLearningCurve(X_norm, y, Xval_norm, yval, 100) "
   ]
  },
  {
   "cell_type": "code",
   "execution_count": null,
   "metadata": {},
   "outputs": [],
   "source": [
    "lambdas = [0., 0.001, 0.003, 0.01, 0.03, 0.1, 0.3, 1., 3., 10.]\n",
    "errors_train, errors_val = [], []\n",
    "for l in lambdas:\n",
    "    theta = trainLinearRegression(X_norm, y, l)\n",
    "    errors_train.append(linearRegCostFunc(theta,X_norm,y,0))  # 记得把lambda = 0\n",
    "    errors_val.append(linearRegCostFunc(theta,Xval_norm,yval,0))\n",
    "    \n",
    "plt.figure(figsize=(8,5))\n",
    "plt.plot(lambdas,errors_train,label='Train')\n",
    "plt.plot(lambdas,errors_val,label='Cross Validation')\n",
    "plt.legend()\n",
    "plt.xlabel('lambda')\n",
    "plt.ylabel('Error')\n",
    "plt.grid(True)"
   ]
  },
  {
   "cell_type": "code",
   "execution_count": null,
   "metadata": {},
   "outputs": [],
   "source": [
    "theta = trainLinearRegression(X_norm, y, 3)\n",
    "print('test cost(l={}) = {}'.format(3, linearRegCostFunc(theta, Xtest_norm, ytest, 0)))"
   ]
  }
 ],
 "metadata": {
  "kernelspec": {
   "display_name": "Python 3",
   "language": "python",
   "name": "python3"
  },
  "language_info": {
   "codemirror_mode": {
    "name": "ipython",
    "version": 3
   },
   "file_extension": ".py",
   "mimetype": "text/x-python",
   "name": "python",
   "nbconvert_exporter": "python",
   "pygments_lexer": "ipython3",
   "version": "3.9.13"
  }
 },
 "nbformat": 4,
 "nbformat_minor": 4
}
