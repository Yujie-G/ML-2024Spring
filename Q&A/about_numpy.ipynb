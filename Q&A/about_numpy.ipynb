{
 "cells": [
  {
   "cell_type": "markdown",
   "metadata": {},
   "source": [
    "# 几个关于维度的问题\n",
    "\n",
    "1. 数学中的向量 a = [1,2,3], 在Numpy中如何表示？\n",
    "\n",
    "\n",
    "A: `a = np.array([1,2,3]).T`\n",
    "\n",
    "B: `a = np.array([[1,2,3]]).T`\n",
    "\n",
    "2. 上述向量a的维度是多少？\n",
    "\n",
    "A: 1\n",
    "\n",
    "B: (3,)\n",
    "\n",
    "C: (3,1)\n",
    "\n",
    "3. 数学中的矩阵 A = [[1,2,3],[4,5,6]], 在Numpy中如何表示？\n",
    "\n",
    "\n",
    "\n",
    "## ndarray.ndim\n",
    "the number of axes (dimensions) of the array\n",
    "秩，数组轴的数量，或者维度的数量\n",
    "\n",
    "\n",
    "## ndarray.shape\n",
    "the dimensions of the array. This is a tuple of integers indicating the size of the array in each dimension. For a matrix with n rows and m columns, shape will be (n,m). The length of the shape tuple is therefore the number of axes, ndim.\n",
    "数组的维度。它的返回值是一个元组，这个元组描述了每个维度中数组的大小。相对于一个矩阵来说，shape表示的就是n行m列。这个元组的长度，等价于轴/维度的个数，即秩的值\n"
   ]
  }
 ],
 "metadata": {
  "kernelspec": {
   "display_name": "base",
   "language": "python",
   "name": "python3"
  },
  "language_info": {
   "codemirror_mode": {
    "name": "ipython",
    "version": 3
   },
   "file_extension": ".py",
   "mimetype": "text/x-python",
   "name": "python",
   "nbconvert_exporter": "python",
   "pygments_lexer": "ipython3",
   "version": "3.11.4"
  }
 },
 "nbformat": 4,
 "nbformat_minor": 2
}
