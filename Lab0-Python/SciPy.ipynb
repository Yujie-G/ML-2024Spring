{
 "cells": [
  {
   "cell_type": "markdown",
   "metadata": {},
   "source": [
    "# Scipy\n",
    "\n",
    "SciPy库依赖于NumPy，NumPy提供了方便和快速的n维数组操作。SciPy使用的基本数据结构是NumPy模块提供的多维数组。NumPy提供了一些用于线性代数、傅里叶变换和随机数生成的函数，SciPy中也提供了，并且通用性更强。"
   ]
  },
  {
   "cell_type": "markdown",
   "metadata": {},
   "source": [
    "# Scipy 常量\n",
    "Scipy中内置了许多科学常量"
   ]
  },
  {
   "cell_type": "code",
   "execution_count": 1,
   "metadata": {},
   "outputs": [
    {
     "name": "stdout",
     "output_type": "stream",
     "text": [
      "3.141592653589793\n",
      "9.80665\n"
     ]
    }
   ],
   "source": [
    "from scipy import constants\n",
    "print(constants.pi) # PI\n",
    "print(constants.g) # 重力加速度g"
   ]
  },
  {
   "cell_type": "markdown",
   "metadata": {},
   "source": [
    "# 优化器\n",
    "优化器是在 SciPy 中定义的一组过程，它们要么找到函数的最小值，要么找到方程的根。本质上，机器学习中的所有算法都不过是一个复杂的方程，需要借助给定的数据来最小化。"
   ]
  },
  {
   "cell_type": "markdown",
   "metadata": {},
   "source": [
    "## 方程的根\n",
    "\n",
    "NumPy 能够为多项式和线性方程求根，但它无法为非线性方程求根，例如：x + cos(x)\n",
    "\n",
    "为此，可以使用 SciPy 的 optimze.root 函数求解。\n",
    "\n",
    "这个函数有两个必需的参数：\n",
    "\n",
    "    fun - 一个代表方程的函数。\n",
    "\n",
    "    x0 - 对根的初始猜测。\n",
    "\n",
    "该函数返回一个包含解决方案信息的对象。\n",
    "\n",
    "实际解决方案在返回对象的x属性下给出："
   ]
  },
  {
   "cell_type": "code",
   "execution_count": 10,
   "metadata": {},
   "outputs": [
    {
     "name": "stdout",
     "output_type": "stream",
     "text": [
      "[-0.73908513]\n"
     ]
    }
   ],
   "source": [
    "# 求方程的根 x + cos(x)\n",
    "from scipy.optimize import root\n",
    "from math import cos\n",
    "\n",
    "def eqn(x):\n",
    "  return x + cos(x)\n",
    "\n",
    "myroot = root(fun=eqn, x0=0)\n",
    "\n",
    "print(myroot.x)"
   ]
  },
  {
   "cell_type": "code",
   "execution_count": 11,
   "metadata": {},
   "outputs": [
    {
     "name": "stdout",
     "output_type": "stream",
     "text": [
      "    fjac: array([[-1.]])\n",
      "     fun: array([0.])\n",
      " message: 'The solution converged.'\n",
      "    nfev: 9\n",
      "     qtf: array([-2.66786593e-13])\n",
      "       r: array([-1.67361202])\n",
      "  status: 1\n",
      " success: True\n",
      "       x: array([-0.73908513])\n"
     ]
    }
   ],
   "source": [
    "print(myroot) # 打印解决方案的所有信息"
   ]
  },
  {
   "cell_type": "markdown",
   "metadata": {},
   "source": [
    "## 最小化函数\n",
    "\n",
    "我们可以使用scipy.optimize.minimize()函数来最小化函数。\n",
    "\n",
    "minimize() 函数采用以下参数：\n",
    "\n",
    "    fun - 一个代表方程的函数。\n",
    "\n",
    "    x0 - 对根的初始猜测。\n",
    "\n",
    "    方法 - 要使用的方法的名称。可能的值：\n",
    "        'CG'\n",
    "        'BFGS'\n",
    "        'Newton-CG'\n",
    "        'L-BFGS-B'\n",
    "        'TNC'\n",
    "        'COBYLA'\n",
    "        'SLSQP'\n",
    "\n",
    "    callback - 每次优化迭代后调用的函数。\n",
    "\n",
    "    options - 定义额外参数的字典"
   ]
  },
  {
   "cell_type": "code",
   "execution_count": 2,
   "metadata": {},
   "outputs": [
    {
     "name": "stdout",
     "output_type": "stream",
     "text": [
      "  message: Optimization terminated successfully.\n",
      "  success: True\n",
      "   status: 0\n",
      "      fun: 1.75\n",
      "        x: [-5.000e-01]\n",
      "      nit: 2\n",
      "      jac: [ 0.000e+00]\n",
      " hess_inv: [[ 5.000e-01]]\n",
      "     nfev: 8\n",
      "     njev: 4\n"
     ]
    }
   ],
   "source": [
    "# 用BFGS最小化函数x^2 + x + 2\n",
    "from scipy.optimize import minimize\n",
    "\n",
    "def eqn(x):\n",
    "  return x**2 + x + 2\n",
    "\n",
    "mymin = minimize(fun=eqn, x0=0, method='BFGS')\n",
    "\n",
    "print(mymin)"
   ]
  },
  {
   "cell_type": "code",
   "execution_count": null,
   "metadata": {},
   "outputs": [],
   "source": []
  }
 ],
 "metadata": {
  "hide_input": false,
  "kernelspec": {
   "display_name": "Python 3 (ipykernel)",
   "language": "python",
   "name": "python3"
  },
  "language_info": {
   "codemirror_mode": {
    "name": "ipython",
    "version": 3
   },
   "file_extension": ".py",
   "mimetype": "text/x-python",
   "name": "python",
   "nbconvert_exporter": "python",
   "pygments_lexer": "ipython3",
   "version": "3.11.4"
  },
  "toc": {
   "base_numbering": 1,
   "nav_menu": {},
   "number_sections": true,
   "sideBar": true,
   "skip_h1_title": false,
   "title_cell": "Table of Contents",
   "title_sidebar": "Contents",
   "toc_cell": false,
   "toc_position": {},
   "toc_section_display": true,
   "toc_window_display": false
  },
  "varInspector": {
   "cols": {
    "lenName": 16,
    "lenType": 16,
    "lenVar": 40
   },
   "kernels_config": {
    "python": {
     "delete_cmd_postfix": "",
     "delete_cmd_prefix": "del ",
     "library": "var_list.py",
     "varRefreshCmd": "print(var_dic_list())"
    },
    "r": {
     "delete_cmd_postfix": ") ",
     "delete_cmd_prefix": "rm(",
     "library": "var_list.r",
     "varRefreshCmd": "cat(var_dic_list()) "
    }
   },
   "types_to_exclude": [
    "module",
    "function",
    "builtin_function_or_method",
    "instance",
    "_Feature"
   ],
   "window_display": false
  }
 },
 "nbformat": 4,
 "nbformat_minor": 4
}
