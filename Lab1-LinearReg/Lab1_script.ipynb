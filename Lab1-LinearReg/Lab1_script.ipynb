{
 "cells": [
  {
   "cell_type": "markdown",
   "metadata": {},
   "source": [
    "# Lab1. 线性回归"
   ]
  },
  {
   "cell_type": "markdown",
   "metadata": {},
   "source": [
    "1. 读取数据\n",
    "2. 可视化\n",
    "3. 计算损失函数\n",
    "4. 解析法求解最优解\n",
    "5. 梯度下降"
   ]
  },
  {
   "cell_type": "markdown",
   "metadata": {},
   "source": [
    "## 1. 读取数据"
   ]
  },
  {
   "cell_type": "code",
   "execution_count": null,
   "metadata": {},
   "outputs": [],
   "source": [
    "import numpy as np\n",
    "import matplotlib.pyplot as plt"
   ]
  },
  {
   "cell_type": "code",
   "execution_count": null,
   "metadata": {},
   "outputs": [],
   "source": [
    "#使用loadtxt读入ex1data1.txt中的数据存放于名为data1的数组，并打印规模和维度\n",
    "# 注意分隔符为“,”\n",
    "ex1data1 = './ex1data1.txt'\n",
    "'''\n",
    "\n",
    "\n",
    "code here\n",
    "\n",
    "\n",
    "'''"
   ]
  },
  {
   "cell_type": "markdown",
   "metadata": {},
   "source": [
    "## 2. 可视化数据"
   ]
  },
  {
   "cell_type": "code",
   "execution_count": null,
   "metadata": {},
   "outputs": [],
   "source": [
    "#打印x和y的规模和维数\n",
    "x = data1[:,0]\n",
    "y = data1[:,1]\n",
    "print(x.shape, x.ndim)"
   ]
  },
  {
   "cell_type": "code",
   "execution_count": null,
   "metadata": {},
   "outputs": [],
   "source": [
    "#使用plt.xlabel plt.ylabel plt.plot函数来进行数据可视化\n",
    "plt.xlabel('Population of City in 10000s')\n",
    "plt.ylabel('Profit in $10000s')\n",
    "'''\n",
    "\n",
    "code here\n",
    "\n",
    "\n",
    "'''"
   ]
  },
  {
   "cell_type": "markdown",
   "metadata": {},
   "source": [
    "## 3. 训练线性回归模型\n",
    "### 3.1 准备输入、标签、输出、学习率、模型参数"
   ]
  },
  {
   "cell_type": "code",
   "execution_count": null,
   "metadata": {},
   "outputs": [],
   "source": [
    "#使用m存放数据点的个数\n",
    "#使用np.ones创建名为x0的一维数组，元素个数为m\n",
    "#使用x1存放读入数据第一列人口数量\n",
    "#使用np.vstack函数将x0和x1进行合并存放于x\n",
    "#使用np.zeros初始化theta\n",
    "m = data1.shape[0] \n",
    "x0 = np.ones(m)\n",
    "x1 = data1[:, 0]\n",
    "'''\n",
    "\n",
    "\n",
    "    code here\n",
    "\n",
    "\n",
    "'''\n",
    "theta = np.zeros((2,1))\n",
    "print(theta)\n",
    "print(theta.shape, x.shape, y.shape)"
   ]
  },
  {
   "cell_type": "markdown",
   "metadata": {},
   "source": [
    "### 3.2 计算代价函数"
   ]
  },
  {
   "cell_type": "code",
   "execution_count": null,
   "metadata": {
    "scrolled": true
   },
   "outputs": [],
   "source": [
    "#利用numpy中的函数编写代价函数\n",
    "#注意避免编写一个完整的长公式，分步计算便于调试\n",
    "#代价函数公式见ppt\n",
    "'''\n",
    "\n",
    "\n",
    "code here\n",
    "\n",
    "\n",
    "'''\n",
    "J = np.sum(error ** 2) / (2*m)\n",
    "print(J)"
   ]
  },
  {
   "cell_type": "markdown",
   "metadata": {},
   "source": [
    "### 3.3 梯度下降法求模型参数"
   ]
  },
  {
   "cell_type": "code",
   "execution_count": null,
   "metadata": {},
   "outputs": [],
   "source": [
    "#定义学习率alpha\n",
    "#迭代次数iteration\n",
    "#使用cost存放每次迭代后计算出的代价函数的取值\n",
    "#进行梯度下降\n",
    "alpha = 0.01  \n",
    "iterations = 1500   \n",
    "cost=[]  \n",
    "\n",
    "for i in range(iterations):\n",
    "    error = np.matmul(theta.T, x) - y\n",
    "    J = np.sum(error ** 2) / (2*m)\n",
    "    '''\n",
    "    \n",
    "    code here\n",
    "    \n",
    "    \n",
    "    '''\n",
    "    theta = theta - grad.T * alpha\n",
    "    cost.append(J)\n",
    "\n",
    "theta"
   ]
  },
  {
   "cell_type": "markdown",
   "metadata": {},
   "source": [
    "### 3.4 通过求导法直接计算最优解"
   ]
  },
  {
   "cell_type": "code",
   "execution_count": null,
   "metadata": {},
   "outputs": [],
   "source": [
    "#编写公式直接求取theta最优解\n",
    "'''\n",
    "\n",
    "code here\n",
    "\n",
    "\n",
    "'''\n",
    "print(theta)"
   ]
  },
  {
   "cell_type": "markdown",
   "metadata": {},
   "source": [
    "## 4. 使用训练得到的模型进行预测"
   ]
  },
  {
   "cell_type": "code",
   "execution_count": null,
   "metadata": {},
   "outputs": [],
   "source": [
    "#使用训练的带的参数，代入x0=5.0求得对应的y0\n",
    "#使用训练的带的参数，代入x1=25.0求得对应的y1\n",
    "'''\n",
    "\n",
    "code here\n",
    "\n",
    "\n",
    "'''\n",
    "print(y0, y1)"
   ]
  },
  {
   "cell_type": "markdown",
   "metadata": {},
   "source": [
    "## 5. 绘制预测结果"
   ]
  },
  {
   "cell_type": "code",
   "execution_count": null,
   "metadata": {},
   "outputs": [],
   "source": [
    "#利用plt.xlabel plt.ylabel设定坐标轴名称\n",
    "#利用plt.plot画出原始数据散点图\n",
    "#利用plt.plot画出拟合的直线，可利用上一步计算得到的两个坐标点\n",
    "plt.xlabel('Population of City in 10000s')\n",
    "plt.ylabel('Profit in $10000s')\n",
    "'''\n",
    "\n",
    "code here\n",
    "\n",
    "'''\n",
    "\n"
   ]
  }
 ],
 "metadata": {
  "kernelspec": {
   "display_name": "Python 3 (ipykernel)",
   "language": "python",
   "name": "python3"
  },
  "language_info": {
   "codemirror_mode": {
    "name": "ipython",
    "version": 3
   },
   "file_extension": ".py",
   "mimetype": "text/x-python",
   "name": "python",
   "nbconvert_exporter": "python",
   "pygments_lexer": "ipython3",
   "version": "3.9.13"
  }
 },
 "nbformat": 4,
 "nbformat_minor": 4
}
