{
 "cells": [
  {
   "cell_type": "code",
   "execution_count": 11,
   "metadata": {},
   "outputs": [],
   "source": [
    "from sklearn.model_selection import train_test_split\n",
    "from sklearn.datasets import make_classification\n",
    "from sklearn.metrics import accuracy_score\n",
    "from sklearn.datasets import load_breast_cancer\n",
    "breastcancerdata = load_breast_cancer()\n",
    "X = breastcancerdata.data\n",
    "y = breastcancerdata.target\n",
    "# 创建样本数据\n",
    "'''X, y = make_classification(n_samples=1000, n_features=20, n_informative=2, n_redundant=0, random_state=7)'''\n",
    "y = 2*y-1\n",
    "X_train, X_test, y_train, y_test = train_test_split(X, y, test_size=0.3, random_state=42)"
   ]
  },
  {
   "cell_type": "code",
   "execution_count": 12,
   "metadata": {},
   "outputs": [],
   "source": [
    "import numpy as np\n",
    "from sklearn.base import BaseEstimator, ClassifierMixin\n",
    "\n",
    "def stump_classify(X, dimension, thresh_val, thresh_ineq):\n",
    "    \"\"\"通过阈值比较对数据进行分类的决策树桩分类器\"\"\"\n",
    "    ret_array = np.ones((np.shape(X)[0], 1))\n",
    "    if thresh_ineq == 'lt':\n",
    "        ret_array[X[:, dimension] <= thresh_val] = -1.0\n",
    "    else:\n",
    "        ret_array[X[:, dimension] > thresh_val] = -1.0\n",
    "    return ret_array\n",
    "\n",
    "def build_stump(X, y, D):\n",
    "    \"\"\"构建最佳单层决策树\"\"\"\n",
    "    m, n = np.shape(X)\n",
    "    num_steps = 10.0\n",
    "    best_stump = {}\n",
    "    best_class_est = np.zeros((m, 1))\n",
    "    min_error = np.inf\n",
    "    for i in range(n):\n",
    "        range_min = X[:, i].min()\n",
    "        range_max = X[:, i].max()\n",
    "        step_size = (range_max - range_min) / num_steps\n",
    "        for j in range(-1, int(num_steps) + 1):\n",
    "            for inequal in ['lt', 'gt']:\n",
    "                thresh_val = (range_min + float(j) * step_size)\n",
    "                predicted_vals = stump_classify(X, i, thresh_val, inequal)\n",
    "                err_arr = np.ones((m, 1))\n",
    "                err_arr[predicted_vals == y] = 0\n",
    "                weighted_error = np.dot(D.T, err_arr)\n",
    "                if weighted_error < min_error:\n",
    "                    min_error = weighted_error\n",
    "                    best_class_est = predicted_vals.copy()\n",
    "                    best_stump['dim'] = i\n",
    "                    best_stump['thresh'] = thresh_val\n",
    "                    best_stump['ineq'] = inequal\n",
    "    return best_stump, min_error, best_class_est\n",
    "\n",
    "class AdaBoostClassifier_(BaseEstimator, ClassifierMixin):\n",
    "    def __init__(self, num_iters=40):\n",
    "        self.num_iters = num_iters\n",
    "        self.classifiers = []\n",
    "        \n",
    "    def fit(self, X, y):\n",
    "        y = y.reshape(-1, 1)  # 确保 y 是列向量\n",
    "        m = X.shape[0]\n",
    "        D = np.ones((m, 1)) / m\n",
    "        agg_class_est = np.zeros((m, 1))\n",
    "        for i in range(self.num_iters):\n",
    "            '''code here'''\n",
    "            best_stump['alpha'] = alpha\n",
    "            self.classifiers.append(best_stump)\n",
    "            '''code here'''\n",
    "            agg_class_est += alpha * class_est\n",
    "            agg_errors = np.multiply(np.sign(agg_class_est) != y, np.ones((m, 1)))\n",
    "            error_rate = agg_errors.sum() / m\n",
    "            if error_rate == 0.0:\n",
    "                break\n",
    "        return self\n",
    "    \n",
    "    def predict(self, X):\n",
    "        m = X.shape[0]\n",
    "        agg_class_est = np.zeros((m, 1))\n",
    "        for classifier in self.classifiers:\n",
    "            class_est = stump_classify(X, classifier['dim'], classifier['thresh'], classifier['ineq'])\n",
    "            agg_class_est += classifier['alpha'] * class_est\n",
    "        return np.sign(agg_class_est)\n",
    "\n",
    "   \n",
    "\n"
   ]
  },
  {
   "cell_type": "code",
   "execution_count": 13,
   "metadata": {},
   "outputs": [
    {
     "name": "stderr",
     "output_type": "stream",
     "text": [
      "C:\\Users\\25751\\AppData\\Local\\Temp\\ipykernel_20896\\1384536587.py:51: DeprecationWarning: Conversion of an array with ndim > 0 to a scalar is deprecated, and will error in future. Ensure you extract a single element from your array before performing this operation. (Deprecated NumPy 1.25.)\n",
      "  alpha = float(0.5 * np.log((1.0 - error) / max(error, 1e-16)))\n"
     ]
    },
    {
     "name": "stdout",
     "output_type": "stream",
     "text": [
      "Accuracy of clf1: 0.9649122807017544\n",
      "Accuracy of clf2: 0.9766081871345029\n"
     ]
    }
   ],
   "source": [
    "from sklearn.ensemble import AdaBoostClassifier\n",
    "# 创建模型\n",
    "clf1 = AdaBoostClassifier_()\n",
    "clf2 = AdaBoostClassifier()\n",
    "clf1.fit(X_train, y_train)\n",
    "clf2.fit(X_train, y_train)\n",
    "# 进行预测\n",
    "y_pred1 = clf1.predict(X_test)\n",
    "# 评估模型\n",
    "print(\"Accuracy of clf1:\", accuracy_score(y_test, y_pred1))\n",
    "print(\"Accuracy of clf2:\", clf2.score(X_test, y_test))"
   ]
  }
 ],
 "metadata": {
  "kernelspec": {
   "display_name": "Python 3 (ipykernel)",
   "language": "python",
   "name": "python3"
  },
  "language_info": {
   "codemirror_mode": {
    "name": "ipython",
    "version": 3
   },
   "file_extension": ".py",
   "mimetype": "text/x-python",
   "name": "python",
   "nbconvert_exporter": "python",
   "pygments_lexer": "ipython3",
   "version": "3.9.0"
  }
 },
 "nbformat": 4,
 "nbformat_minor": 2
}
