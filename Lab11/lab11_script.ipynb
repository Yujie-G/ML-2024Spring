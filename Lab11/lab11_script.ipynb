{
 "cells": [
  {
   "cell_type": "markdown",
   "id": "fa7e3e52",
   "metadata": {},
   "source": [
    "# ResNet50\n",
    "\n",
    "ResNet50网络是2015年由微软实验室的何恺明提出，获得ILSVRC2015图像分类竞赛第一名。在ResNet网络提出之前，传统的卷积神经网络都是将一系列的卷积层和池化层堆叠得到的，但当网络堆叠到一定深度时，就会出现退化问题。下图是在CIFAR-10数据集上使用56层网络与20层网络训练误差和测试误差图，由图中数据可以看出，56层网络比20层网络训练误差和测试误差更大，随着网络的加深，其误差并没有如预想的一样减小。\n",
    "\n",
    "![resnet-1](https://mindspore-website.obs.cn-north-4.myhuaweicloud.com/website-images/r2.2/tutorials/application/source_zh_cn/cv/images/resnet_1.png)\n",
    "\n",
    "ResNet网络提出了残差网络结构(Residual Network)来减轻退化问题，使用ResNet网络可以实现搭建较深的网络结构（突破1000层）。论文中使用ResNet网络在CIFAR-10数据集上的训练误差与测试误差图如下图所示，图中虚线表示训练误差，实线表示测试误差。由图中数据可以看出，ResNet网络层数越深，其训练误差和测试误差越小。\n",
    "\n",
    "![resnet-4](https://mindspore-website.obs.cn-north-4.myhuaweicloud.com/website-images/r2.2/tutorials/application/source_zh_cn/cv/images/resnet_4.png)\n",
    "\n",
    "> 了解ResNet网络更多详细内容，参见[ResNet论文](https://arxiv.org/pdf/1512.03385.pdf)。"
   ]
  },
  {
   "cell_type": "markdown",
   "id": "a987ee48",
   "metadata": {},
   "source": [
    "## 数据集准备与加载\n",
    "\n"
   ]
  },
  {
   "cell_type": "code",
   "execution_count": 1,
   "id": "1f9b81fb",
   "metadata": {},
   "outputs": [
    {
     "name": "stdout",
     "output_type": "stream",
     "text": [
      "Looking in indexes: https://pypi.tuna.tsinghua.edu.cn/simple\n",
      "Requirement already satisfied: download in c:\\users\\xyh\\anaconda3\\lib\\site-packages (0.3.5)\n",
      "Requirement already satisfied: nltk in c:\\users\\xyh\\anaconda3\\lib\\site-packages (3.7)\n",
      "Requirement already satisfied: tqdm in c:\\users\\xyh\\anaconda3\\lib\\site-packages (from download) (4.64.1)\n",
      "Requirement already satisfied: six in c:\\users\\xyh\\anaconda3\\lib\\site-packages (from download) (1.16.0)\n",
      "Requirement already satisfied: requests in c:\\users\\xyh\\anaconda3\\lib\\site-packages (from download) (2.31.0)\n",
      "Requirement already satisfied: click in c:\\users\\xyh\\anaconda3\\lib\\site-packages (from nltk) (8.1.7)\n",
      "Requirement already satisfied: joblib in c:\\users\\xyh\\anaconda3\\lib\\site-packages (from nltk) (1.1.0)\n",
      "Requirement already satisfied: regex>=2021.8.3 in c:\\users\\xyh\\anaconda3\\lib\\site-packages (from nltk) (2022.7.9)\n",
      "Requirement already satisfied: colorama in c:\\users\\xyh\\anaconda3\\lib\\site-packages (from click->nltk) (0.4.5)\n",
      "Requirement already satisfied: idna<4,>=2.5 in c:\\users\\xyh\\anaconda3\\lib\\site-packages (from requests->download) (3.3)\n",
      "Requirement already satisfied: urllib3<3,>=1.21.1 in c:\\users\\xyh\\anaconda3\\lib\\site-packages (from requests->download) (2.2.1)\n",
      "Requirement already satisfied: certifi>=2017.4.17 in c:\\users\\xyh\\anaconda3\\lib\\site-packages (from requests->download) (2022.9.14)\n",
      "Requirement already satisfied: charset-normalizer<4,>=2 in c:\\users\\xyh\\anaconda3\\lib\\site-packages (from requests->download) (2.0.4)\n",
      "Creating data folder...\n",
      "Downloading data from https://mindspore-website.obs.cn-north-4.myhuaweicloud.com/notebook/datasets/cifar-10-binary.tar.gz (162.2 MB)\n",
      "\n",
      "file_sizes: 100%|████████████████████████████| 170M/170M [00:06<00:00, 25.4MB/s]\n",
      "Extracting tar.gz file...\n",
      "Successfully downloaded / unzipped to ./datasets-cifar10-bin\n"
     ]
    },
    {
     "data": {
      "text/plain": [
       "'./datasets-cifar10-bin'"
      ]
     },
     "execution_count": 1,
     "metadata": {},
     "output_type": "execute_result"
    }
   ],
   "source": [
    "'''!pip install download nltk\n",
    "from download import download\n",
    "\n",
    "url = \"https://mindspore-website.obs.cn-north-4.myhuaweicloud.com/notebook/datasets/cifar-10-binary.tar.gz\"\n",
    "\n",
    "download(url, \"./datasets-cifar10-bin\", kind=\"tar.gz\", replace=True)'''"
   ]
  },
  {
   "cell_type": "code",
   "execution_count": 6,
   "id": "df7fb621",
   "metadata": {},
   "outputs": [],
   "source": [
    "import mindspore as ms\n",
    "import mindspore.dataset as ds\n",
    "import mindspore.dataset.vision as vision\n",
    "import mindspore.dataset.transforms as transforms\n",
    "from mindspore import dtype as mstype\n",
    "\n",
    "data_dir = \"./datasets-cifar10-bin/cifar-10-batches-bin\"  # 数据集根目录\n",
    "batch_size = 256  # 批量大小\n",
    "image_size = 32  # 训练图像空间大小\n",
    "workers = 4  # 并行线程个数\n",
    "num_classes = 10  # 分类数量\n",
    "\n",
    "\n",
    "def create_dataset_cifar10(dataset_dir, usage, resize, batch_size, workers):\n",
    "\n",
    "    data_set = ds.Cifar10Dataset(dataset_dir=dataset_dir,\n",
    "                                 usage=usage,\n",
    "                                 num_parallel_workers=workers,\n",
    "                                 shuffle=True)\n",
    "\n",
    "    trans = []\n",
    "    if usage == \"train\":\n",
    "        trans += [\n",
    "            vision.RandomCrop((32, 32), (4, 4, 4, 4)),\n",
    "            vision.RandomHorizontalFlip(prob=0.5)\n",
    "        ]\n",
    "\n",
    "    trans += [\n",
    "        vision.Resize(resize),\n",
    "        vision.Rescale(1.0 / 255.0, 0.0),\n",
    "        vision.Normalize([0.4914, 0.4822, 0.4465], [0.2023, 0.1994, 0.2010]),\n",
    "        vision.HWC2CHW()\n",
    "    ]\n",
    "\n",
    "    target_trans = transforms.TypeCast(mstype.int32)\n",
    "\n",
    "    # 数据映射操作\n",
    "    data_set = data_set.map(operations=trans,\n",
    "                            input_columns='image',\n",
    "                            num_parallel_workers=workers)\n",
    "\n",
    "    data_set = data_set.map(operations=target_trans,\n",
    "                            input_columns='label',\n",
    "                            num_parallel_workers=workers)\n",
    "\n",
    "    # 批量操作\n",
    "    data_set = data_set.batch(batch_size)\n",
    "\n",
    "    return data_set\n",
    "\n",
    "\n",
    "# 获取处理后的训练与测试数据集\n",
    "\n",
    "train_dataset = create_dataset_cifar10(dataset_dir=data_dir,\n",
    "                                       usage=\"train\",\n",
    "                                       resize=image_size,\n",
    "                                       batch_size=batch_size,\n",
    "                                       workers=workers)\n",
    "step_size_train = train_dataset.get_dataset_size()\n",
    "\n",
    "test_dataset = create_dataset_cifar10(dataset_dir=data_dir,\n",
    "                                     usage=\"test\",\n",
    "                                     resize=image_size,\n",
    "                                     batch_size=batch_size,\n",
    "                                     workers=workers)\n",
    "step_size_val = test_dataset.get_dataset_size()"
   ]
  },
  {
   "cell_type": "markdown",
   "id": "21e86f95",
   "metadata": {},
   "source": [
    "## 对CIFAR-10可视化"
   ]
  },
  {
   "cell_type": "code",
   "execution_count": 11,
   "id": "c3ffabb3",
   "metadata": {},
   "outputs": [
    {
     "data": {
      "image/png": "[encoded data removed]",
      "text/plain": [
       "<Figure size 640x480 with 5 Axes>"
      ]
     },
     "metadata": {},
     "output_type": "display_data"
    }
   ],
   "source": [
    "import mindspore as ms\n",
    "from mindspore import nn, dataset as ds, Model\n",
    "from mindspore.train.callback import LossMonitor\n",
    "from mindspore.nn import Accuracy\n",
    "from mindspore import Tensor\n",
    "import mindspore.dataset.vision.c_transforms as CV\n",
    "import mindspore.dataset.transforms.c_transforms as C\n",
    "import mindspore.common.dtype as mstype\n",
    "import matplotlib.pyplot as plt\n",
    "import numpy as np\n",
    "\n",
    "\n",
    "def visualize_dataset(dataset, num_samples=5):\n",
    "    data_iter = dataset.create_dict_iterator(output_numpy=True)\n",
    "    for i, data in enumerate(data_iter):\n",
    "        if i * data['image'].shape[0] >= num_samples:\n",
    "            break\n",
    "        images = data['image']\n",
    "        labels = data['label']\n",
    "        batch_size = images.shape[0]\n",
    "        for j in range(batch_size):\n",
    "            if i * batch_size + j >= num_samples:\n",
    "                break\n",
    "            img = images[j]\n",
    "            label = labels[j]\n",
    "            img = img.transpose((1, 2, 0))  # CHW to HWC\n",
    "            img = (img * [0.229, 0.224, 0.225] + [0.485, 0.456, 0.406]) * 255\n",
    "            img = np.clip(img, 0, 255).astype(np.uint8)\n",
    "            plt.subplot(1, num_samples, i * batch_size + j + 1)\n",
    "            plt.title(f'Label: {label}')\n",
    "            plt.imshow(img)\n",
    "            plt.axis('off')\n",
    "    plt.show()\n",
    "\n",
    "visualize_dataset(train_dataset)"
   ]
  },
  {
   "cell_type": "markdown",
   "id": "76c96f76",
   "metadata": {},
   "source": [
    "## 构造残差块\n",
    "\n",
    "#### Building Block\n",
    "\n",
    "如下代码定义`ResidualBlock_buildingblock`类实现Building Block结构。"
   ]
  },
  {
   "cell_type": "code",
   "execution_count": 12,
   "id": "85bff173",
   "metadata": {},
   "outputs": [
    {
     "name": "stdout",
     "output_type": "stream",
     "text": [
      "ResidualBlock_buildingblock<\n",
      "  (conv1): Conv2d<input_channels=64, output_channels=128, kernel_size=(3, 3), stride=(2, 2), pad_mode=same, padding=0, dilation=(1, 1), group=1, has_bias=False, weight_init=<mindspore.common.initializer.HeUniform object at 0x000001A3486F1D30>, bias_init=None, format=NCHW>\n",
      "  (bn1): BatchNorm2d<num_features=128, eps=1e-05, momentum=0.9, gamma=Parameter (name=bn1.gamma, shape=(128,), dtype=Float32, requires_grad=True), beta=Parameter (name=bn1.beta, shape=(128,), dtype=Float32, requires_grad=True), moving_mean=Parameter (name=bn1.moving_mean, shape=(128,), dtype=Float32, requires_grad=False), moving_variance=Parameter (name=bn1.moving_variance, shape=(128,), dtype=Float32, requires_grad=False)>\n",
      "  (relu): ReLU<>\n",
      "  (conv2): Conv2d<input_channels=128, output_channels=128, kernel_size=(3, 3), stride=(1, 1), pad_mode=same, padding=0, dilation=(1, 1), group=1, has_bias=False, weight_init=<mindspore.common.initializer.HeUniform object at 0x000001A3486FDF10>, bias_init=None, format=NCHW>\n",
      "  (bn2): BatchNorm2d<num_features=128, eps=1e-05, momentum=0.9, gamma=Parameter (name=bn2.gamma, shape=(128,), dtype=Float32, requires_grad=True), beta=Parameter (name=bn2.beta, shape=(128,), dtype=Float32, requires_grad=True), moving_mean=Parameter (name=bn2.moving_mean, shape=(128,), dtype=Float32, requires_grad=False), moving_variance=Parameter (name=bn2.moving_variance, shape=(128,), dtype=Float32, requires_grad=False)>\n",
      "  (downsample): SequentialCell<\n",
      "    (0): Conv2d<input_channels=64, output_channels=128, kernel_size=(1, 1), stride=(2, 2), pad_mode=same, padding=0, dilation=(1, 1), group=1, has_bias=False, weight_init=<mindspore.common.initializer.HeUniform object at 0x000001A3486F1A00>, bias_init=None, format=NCHW>\n",
      "    (1): BatchNorm2d<num_features=128, eps=1e-05, momentum=0.9, gamma=Parameter (name=downsample.1.gamma, shape=(128,), dtype=Float32, requires_grad=True), beta=Parameter (name=downsample.1.beta, shape=(128,), dtype=Float32, requires_grad=True), moving_mean=Parameter (name=downsample.1.moving_mean, shape=(128,), dtype=Float32, requires_grad=False), moving_variance=Parameter (name=downsample.1.moving_variance, shape=(128,), dtype=Float32, requires_grad=False)>\n",
      "    >\n",
      "  >\n"
     ]
    }
   ],
   "source": [
    "import mindspore.nn as nn\n",
    "import mindspore.ops as ops\n",
    "\n",
    "class ResidualBlock_buildingblock(nn.Cell):\n",
    "    def __init__(self, in_channels, out_channels, stride=1, downsample=None):\n",
    "        super(ResidualBlock_buildingblock, self).__init__()\n",
    "        self.conv1 = nn.Conv2d(in_channels, out_channels, kernel_size=3, stride=stride, pad_mode='same', has_bias=False)\n",
    "        self.bn1 = nn.BatchNorm2d(out_channels)\n",
    "        self.relu = nn.ReLU()\n",
    "        self.conv2 = nn.Conv2d(out_channels, out_channels, kernel_size=3, stride=1, pad_mode='same', has_bias=False)\n",
    "        self.bn2 = nn.BatchNorm2d(out_channels)\n",
    "        self.downsample = downsample\n",
    "\n",
    "    def construct(self, x):\n",
    "        identity = x\n",
    "\n",
    "        out = self.conv1(x)\n",
    "        out = self.bn1(out)\n",
    "        out = self.relu(out)\n",
    "\n",
    "        out = self.conv2(out)\n",
    "        out = self.bn2(out)\n",
    "\n",
    "        if self.downsample is not None:\n",
    "            identity = self.downsample(x)\n",
    "\n",
    "        out += identity\n",
    "        out = self.relu(out)\n",
    "\n",
    "        return out\n",
    "\n",
    "# 示例：构建一个 ResidualBlock\n",
    "in_channels = 64\n",
    "out_channels = 128\n",
    "stride = 2\n",
    "downsample = nn.SequentialCell([\n",
    "    nn.Conv2d(in_channels, out_channels, kernel_size=1, stride=stride, pad_mode='same', has_bias=False),\n",
    "    nn.BatchNorm2d(out_channels),\n",
    "])\n",
    "\n",
    "residual_block = ResidualBlock_buildingblock(in_channels, out_channels, stride, downsample)\n",
    "\n",
    "# 打印网络结构\n",
    "print(residual_block)\n"
   ]
  },
  {
   "cell_type": "markdown",
   "id": "aaa15d3c",
   "metadata": {},
   "source": [
    "#### Bottleneck\n",
    "如下代码定义`ResidualBlock`类实现Bottleneck结构。"
   ]
  },
  {
   "cell_type": "code",
   "execution_count": 13,
   "id": "0d46f98e",
   "metadata": {},
   "outputs": [],
   "source": [
    "class ResidualBlock(nn.Cell):\n",
    "    def __init__(self, in_channels, out_channels, stride=1, downsample=False):\n",
    "        super(ResidualBlock, self).__init__()\n",
    "        self.conv1 = nn.Conv2d(in_channels, out_channels, kernel_size=1, stride=stride, padding=0, pad_mode='pad')\n",
    "        self.bn1 = nn.BatchNorm2d(out_channels)\n",
    "        self.conv2 = nn.Conv2d(out_channels, out_channels, kernel_size=3, stride=1, padding=1, pad_mode='pad')\n",
    "        self.bn2 = nn.BatchNorm2d(out_channels)\n",
    "        self.conv3 = nn.Conv2d(out_channels, out_channels * 4, kernel_size=1, stride=1, padding=0, pad_mode='pad')\n",
    "        self.bn3 = nn.BatchNorm2d(out_channels * 4)\n",
    "        self.relu = nn.ReLU()\n",
    "        self.downsample = downsample\n",
    "        if self.downsample:\n",
    "            self.shortcut = nn.SequentialCell([\n",
    "                nn.Conv2d(in_channels, out_channels * 4, kernel_size=1, stride=stride, padding=0, pad_mode='pad'),\n",
    "                nn.BatchNorm2d(out_channels * 4)\n",
    "            ])\n",
    "\n",
    "    def construct(self, x):\n",
    "        identity = x\n",
    "        '''\n",
    "        \n",
    "        code here\n",
    "        \n",
    "        '''\n",
    "        if self.downsample:\n",
    "            identity = self.shortcut(x)\n",
    "        '''\n",
    "        \n",
    "        code here\n",
    "        \n",
    "        '''\n",
    "        return out"
   ]
  },
  {
   "cell_type": "markdown",
   "id": "d1d8dfc9",
   "metadata": {},
   "source": [
    "## 构建ResNet50网络\n"
   ]
  },
  {
   "cell_type": "code",
   "execution_count": 16,
   "id": "1ebef3d0",
   "metadata": {},
   "outputs": [],
   "source": [
    "# 定义ResNet\n",
    "class ResNet(nn.Cell):\n",
    "    def __init__(self, block, layers, num_classes=10):\n",
    "        super(ResNet, self).__init__()\n",
    "        self.in_channels = 64\n",
    "        self.conv1 = nn.Conv2d(3, 64, kernel_size=7, stride=2)\n",
    "        self.bn1 = nn.BatchNorm2d(64)\n",
    "        self.relu = nn.ReLU()\n",
    "        self.maxpool = nn.MaxPool2d(kernel_size=3, stride=2)\n",
    "        self.layer1 = self._make_layer(block, 64, layers[0], stride=1)\n",
    "        self.layer2 = self._make_layer(block, 128, layers[1], stride=2)\n",
    "        self.layer3 = self._make_layer(block, 256, layers[2], stride=2)\n",
    "        self.layer4 = self._make_layer(block, 512, layers[3], stride=2)\n",
    "        self.avgpool = nn.AvgPool2d(kernel_size=4)\n",
    "        self.fc = nn.Dense(512 * 4, num_classes)\n",
    "\n",
    "    def _make_layer(self, block, out_channels, blocks, stride):\n",
    "        layers = []\n",
    "        layers.append(block(self.in_channels, out_channels, stride, downsample=True))\n",
    "        self.in_channels = out_channels * 4\n",
    "        for _ in range(1, blocks):\n",
    "            layers.append(block(self.in_channels, out_channels))\n",
    "        return nn.SequentialCell(layers)\n",
    "\n",
    "    def construct(self, x):\n",
    "        x = self.conv1(x)\n",
    "        x = self.bn1(x)\n",
    "        x = self.relu(x)\n",
    "        ''' code here '''\n",
    "        \n",
    "        x = self.layer1(x)\n",
    "        '''\n",
    "        \n",
    "        code here\n",
    "        \n",
    "        '''\n",
    "        x = x.view(x.shape[0], -1)\n",
    "        x = self.fc(x)\n",
    "        return x\n",
    "\n",
    "def ResNet50(num_classes=10):\n",
    "    return ResNet(ResidualBlock, [3, 4, 6, 3], num_classes)"
   ]
  },
  {
   "cell_type": "markdown",
   "id": "d40bd05a",
   "metadata": {},
   "source": [
    "## 模型训练与评估\n",
    "\n"
   ]
  },
  {
   "cell_type": "code",
   "execution_count": 17,
   "id": "9cf10c03",
   "metadata": {},
   "outputs": [],
   "source": [
    "\n",
    "# 定义模型、损失函数和优化器\n",
    "resnet50 = ResNet50()\n",
    "loss_fn = nn.SoftmaxCrossEntropyWithLogits(sparse=True, reduction='mean')\n",
    "optimizer = nn.Momentum(resnet50.trainable_params(), learning_rate=0.01, momentum=0.9)\n",
    "\n"
   ]
  },
  {
   "cell_type": "code",
   "execution_count": null,
   "id": "1771ec2c",
   "metadata": {},
   "outputs": [],
   "source": [
    "# 训练模型\n",
    "model = Model(resnet50, loss_fn, optimizer, metrics={\"accuracy\": Accuracy()})\n",
    "model.train(5, train_dataset, callbacks=[LossMonitor()], dataset_sink_mode=False)\n",
    "\n",
    "# 测试模型\n",
    "acc = model.eval(test_dataset, dataset_sink_mode=False)\n",
    "print(f\"Accuracy: {acc['accuracy']}\")"
   ]
  }
 ],
 "metadata": {
  "hide_input": false,
  "kernelspec": {
   "display_name": "Python 3.9.13 ('base')",
   "language": "python",
   "name": "python3"
  },
  "language_info": {
   "codemirror_mode": {
    "name": "ipython",
    "version": 3
   },
   "file_extension": ".py",
   "mimetype": "text/x-python",
   "name": "python",
   "nbconvert_exporter": "python",
   "pygments_lexer": "ipython3",
   "version": "3.9.13"
  },
  "toc": {
   "base_numbering": 1,
   "nav_menu": {},
   "number_sections": true,
   "sideBar": true,
   "skip_h1_title": false,
   "title_cell": "Table of Contents",
   "title_sidebar": "Contents",
   "toc_cell": false,
   "toc_position": {},
   "toc_section_display": true,
   "toc_window_display": false
  },
  "varInspector": {
   "cols": {
    "lenName": 16,
    "lenType": 16,
    "lenVar": 40
   },
   "kernels_config": {
    "python": {
     "delete_cmd_postfix": "",
     "delete_cmd_prefix": "del ",
     "library": "var_list.py",
     "varRefreshCmd": "print(var_dic_list())"
    },
    "r": {
     "delete_cmd_postfix": ") ",
     "delete_cmd_prefix": "rm(",
     "library": "var_list.r",
     "varRefreshCmd": "cat(var_dic_list()) "
    }
   },
   "types_to_exclude": [
    "module",
    "function",
    "builtin_function_or_method",
    "instance",
    "_Feature"
   ],
   "window_display": false
  },
  "vscode": {
   "interpreter": {
    "hash": "5cb9523a3ce612da594b1721626e95f90edbb30067f86e1c6d953bc531f0cdd1"
   }
  }
 },
 "nbformat": 4,
 "nbformat_minor": 5
}
